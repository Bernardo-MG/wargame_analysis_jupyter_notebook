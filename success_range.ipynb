{
 "cells": [
  {
   "cell_type": "markdown",
   "metadata": {},
   "source": [
    "# Success Range"
   ]
  },
  {
   "cell_type": "markdown",
   "metadata": {},
   "source": [
    "On a success chance, the range of values which ensure success."
   ]
  },
  {
   "cell_type": "markdown",
   "metadata": {},
   "source": [
    "## Setup"
   ]
  },
  {
   "cell_type": "code",
   "execution_count": 1,
   "metadata": {},
   "outputs": [],
   "source": [
    "import pandas as pd\n",
    "import matplotlib.pyplot as plt\n",
    "import math\n",
    "\n",
    "from scripts.probability import roll_success_range"
   ]
  },
  {
   "cell_type": "markdown",
   "metadata": {},
   "source": [
    "## Example: Roll 1d6 Against a Target"
   ]
  },
  {
   "cell_type": "markdown",
   "metadata": {},
   "source": [
    "Having\n",
    "\n",
    "- A six side die\n",
    "- A target value"
   ]
  },
  {
   "cell_type": "markdown",
   "metadata": {},
   "source": [
    "We want to know:\n",
    "\n",
    "- The values which ensure going above or below the target"
   ]
  },
  {
   "cell_type": "markdown",
   "metadata": {},
   "source": [
    "### Roll Ranges"
   ]
  },
  {
   "cell_type": "code",
   "execution_count": 2,
   "metadata": {},
   "outputs": [],
   "source": [
    "values = []\n",
    "for i in range(1, 7, 1):\n",
    "    values.append(i)\n",
    "d = {\"value\": values}\n",
    "df = pd.DataFrame(data=d)"
   ]
  },
  {
   "cell_type": "code",
   "execution_count": 3,
   "metadata": {},
   "outputs": [],
   "source": [
    "df[\"chance_above\"] = df.apply(lambda x: roll_success_range(1, 6, x[\"value\"], above=True, equal=False), axis=1)\n",
    "df[\"chance_above_equal\"] = df.apply(lambda x: roll_success_range(1, 6, x[\"value\"], above=True, equal=True), axis=1)\n",
    "df[\"chance_below\"] = df.apply(lambda x: roll_success_range(1, 6, x[\"value\"], above=False, equal=False), axis=1)\n",
    "df[\"chance_below_equal\"] = df.apply(lambda x: roll_success_range(1, 6, x[\"value\"], above=False, equal=True), axis=1)"
   ]
  },
  {
   "cell_type": "code",
   "execution_count": 4,
   "metadata": {},
   "outputs": [
    {
     "data": {
      "text/html": [
       "<div>\n",
       "<style scoped>\n",
       "    .dataframe tbody tr th:only-of-type {\n",
       "        vertical-align: middle;\n",
       "    }\n",
       "\n",
       "    .dataframe tbody tr th {\n",
       "        vertical-align: top;\n",
       "    }\n",
       "\n",
       "    .dataframe thead th {\n",
       "        text-align: right;\n",
       "    }\n",
       "</style>\n",
       "<table border=\"1\" class=\"dataframe\">\n",
       "  <thead>\n",
       "    <tr style=\"text-align: right;\">\n",
       "      <th></th>\n",
       "      <th>value</th>\n",
       "      <th>chance_above</th>\n",
       "      <th>chance_above_equal</th>\n",
       "      <th>chance_below</th>\n",
       "      <th>chance_below_equal</th>\n",
       "    </tr>\n",
       "  </thead>\n",
       "  <tbody>\n",
       "    <tr>\n",
       "      <th>0</th>\n",
       "      <td>1</td>\n",
       "      <td>{'min': 2, 'max': 6}</td>\n",
       "      <td>{'min': 1, 'max': 6}</td>\n",
       "      <td>None</td>\n",
       "      <td>{'min': 1, 'max': 1}</td>\n",
       "    </tr>\n",
       "    <tr>\n",
       "      <th>1</th>\n",
       "      <td>2</td>\n",
       "      <td>{'min': 3, 'max': 6}</td>\n",
       "      <td>{'min': 2, 'max': 6}</td>\n",
       "      <td>{'min': 1, 'max': 1}</td>\n",
       "      <td>{'min': 1, 'max': 2}</td>\n",
       "    </tr>\n",
       "    <tr>\n",
       "      <th>2</th>\n",
       "      <td>3</td>\n",
       "      <td>{'min': 4, 'max': 6}</td>\n",
       "      <td>{'min': 3, 'max': 6}</td>\n",
       "      <td>{'min': 1, 'max': 2}</td>\n",
       "      <td>{'min': 1, 'max': 3}</td>\n",
       "    </tr>\n",
       "    <tr>\n",
       "      <th>3</th>\n",
       "      <td>4</td>\n",
       "      <td>{'min': 5, 'max': 6}</td>\n",
       "      <td>{'min': 4, 'max': 6}</td>\n",
       "      <td>{'min': 1, 'max': 3}</td>\n",
       "      <td>{'min': 1, 'max': 4}</td>\n",
       "    </tr>\n",
       "    <tr>\n",
       "      <th>4</th>\n",
       "      <td>5</td>\n",
       "      <td>{'min': 6, 'max': 6}</td>\n",
       "      <td>{'min': 5, 'max': 6}</td>\n",
       "      <td>{'min': 1, 'max': 4}</td>\n",
       "      <td>{'min': 1, 'max': 5}</td>\n",
       "    </tr>\n",
       "    <tr>\n",
       "      <th>5</th>\n",
       "      <td>6</td>\n",
       "      <td>None</td>\n",
       "      <td>{'min': 6, 'max': 6}</td>\n",
       "      <td>{'min': 1, 'max': 5}</td>\n",
       "      <td>{'min': 1, 'max': 6}</td>\n",
       "    </tr>\n",
       "  </tbody>\n",
       "</table>\n",
       "</div>"
      ],
      "text/plain": [
       "   value          chance_above    chance_above_equal          chance_below  \\\n",
       "0      1  {'min': 2, 'max': 6}  {'min': 1, 'max': 6}                  None   \n",
       "1      2  {'min': 3, 'max': 6}  {'min': 2, 'max': 6}  {'min': 1, 'max': 1}   \n",
       "2      3  {'min': 4, 'max': 6}  {'min': 3, 'max': 6}  {'min': 1, 'max': 2}   \n",
       "3      4  {'min': 5, 'max': 6}  {'min': 4, 'max': 6}  {'min': 1, 'max': 3}   \n",
       "4      5  {'min': 6, 'max': 6}  {'min': 5, 'max': 6}  {'min': 1, 'max': 4}   \n",
       "5      6                  None  {'min': 6, 'max': 6}  {'min': 1, 'max': 5}   \n",
       "\n",
       "     chance_below_equal  \n",
       "0  {'min': 1, 'max': 1}  \n",
       "1  {'min': 1, 'max': 2}  \n",
       "2  {'min': 1, 'max': 3}  \n",
       "3  {'min': 1, 'max': 4}  \n",
       "4  {'min': 1, 'max': 5}  \n",
       "5  {'min': 1, 'max': 6}  "
      ]
     },
     "execution_count": 4,
     "metadata": {},
     "output_type": "execute_result"
    }
   ],
   "source": [
    "df"
   ]
  },
  {
   "cell_type": "code",
   "execution_count": 5,
   "metadata": {},
   "outputs": [],
   "source": [
    "chance_above = pd.DataFrame(df['chance_above'].apply(pd.Series))\n",
    "chance_above = chance_above.rename(columns={\"min\": \"min_chance_above\", \"max\": \"max_chance_above\"})\n",
    "\n",
    "chance_above_equal = pd.DataFrame(df['chance_above_equal'].apply(pd.Series))\n",
    "chance_above_equal = chance_above_equal.rename(columns={\"min\": \"min_chance_above_equal\", \"max\": \"max_chance_above_equal\"})\n",
    "\n",
    "chance_below = pd.DataFrame(df['chance_below'].apply(pd.Series))\n",
    "chance_below = chance_below.rename(columns={\"min\": \"min_chance_below\", \"max\": \"max_chance_below\"})\n",
    "\n",
    "chance_below_equal = pd.DataFrame(df['chance_below_equal'].apply(pd.Series))\n",
    "chance_below_equal = chance_below_equal.rename(columns={\"min\": \"min_chance_below_equal\", \"max\": \"max_chance_below_equal\"})"
   ]
  },
  {
   "cell_type": "code",
   "execution_count": 6,
   "metadata": {},
   "outputs": [
    {
     "data": {
      "text/plain": [
       "<matplotlib.legend.Legend at 0xc55f058>"
      ]
     },
     "execution_count": 6,
     "metadata": {},
     "output_type": "execute_result"
    },
    {
     "data": {
      "image/png": "[encoded data removed]",
      "text/plain": [
       "<Figure size 432x288 with 4 Axes>"
      ]
     },
     "metadata": {
      "needs_background": "light"
     },
     "output_type": "display_data"
    }
   ],
   "source": [
    "import matplotlib.pyplot as plt\n",
    "\n",
    "fig, axes = plt.subplots(nrows=2, ncols=2)\n",
    "\n",
    "ax = chance_above.plot(title=\"Above goal\", ax=axes[0,0])\n",
    "ax.legend([\"Min\", \"Max\"])\n",
    "ax = chance_above_equal.plot(title=\"Above or equal goal\", ax=axes[0,1])\n",
    "ax.legend([\"Min\", \"Max\"])\n",
    "ax = chance_below.plot(title=\"Below goal\", ax=axes[1,0])\n",
    "ax.legend([\"Min\", \"Max\"])\n",
    "ax = chance_below_equal.plot(title=\"Below or equal goal\", ax=axes[1,1])\n",
    "ax.legend([\"Min\", \"Max\"])"
   ]
  },
  {
   "cell_type": "markdown",
   "metadata": {},
   "source": [
    "## Example: X-Com, Damage Range After Applying Armor"
   ]
  },
  {
   "cell_type": "markdown",
   "metadata": {},
   "source": [
    "Having:\n",
    "\n",
    "- A weapon which makes 0 to 40 damage\n",
    "- Target with armor 0 to 40"
   ]
  },
  {
   "cell_type": "markdown",
   "metadata": {},
   "source": [
    "We want to know:\n",
    "\n",
    "- The range of actual damage"
   ]
  },
  {
   "cell_type": "code",
   "execution_count": 7,
   "metadata": {},
   "outputs": [],
   "source": [
    "values = []\n",
    "for i in range(0, 41, 1):\n",
    "    values.append(i)\n",
    "d = {\"value\": values}\n",
    "damage = pd.DataFrame(data=d)"
   ]
  },
  {
   "cell_type": "code",
   "execution_count": 8,
   "metadata": {},
   "outputs": [],
   "source": [
    "damage[\"penetrating_damage\"] = damage.apply(lambda x: roll_success_range(0, 40, x[\"value\"], normalize=True), axis=1)"
   ]
  },
  {
   "cell_type": "code",
   "execution_count": 9,
   "metadata": {},
   "outputs": [],
   "source": [
    "damage = pd.DataFrame(damage['penetrating_damage'].apply(pd.Series))"
   ]
  },
  {
   "cell_type": "code",
   "execution_count": 10,
   "metadata": {},
   "outputs": [
    {
     "data": {
      "text/plain": [
       "Text(0, 0.5, 'Damage')"
      ]
     },
     "execution_count": 10,
     "metadata": {},
     "output_type": "execute_result"
    },
    {
     "data": {
      "image/png": "[encoded data removed]",
      "text/plain": [
       "<Figure size 432x288 with 1 Axes>"
      ]
     },
     "metadata": {
      "needs_background": "light"
     },
     "output_type": "display_data"
    }
   ],
   "source": [
    "ax = damage.plot(title=\"Final damage\")\n",
    "ax.legend([\"Min\", \"Max\"])\n",
    "ax.set_xlabel(\"Armor\")\n",
    "ax.set_ylabel(\"Damage\")"
   ]
  }
 ],
 "metadata": {
  "kernelspec": {
   "display_name": "Python 3",
   "language": "python",
   "name": "python3"
  },
  "language_info": {
   "codemirror_mode": {
    "name": "ipython",
    "version": 3
   },
   "file_extension": ".py",
   "mimetype": "text/x-python",
   "name": "python",
   "nbconvert_exporter": "python",
   "pygments_lexer": "ipython3",
   "version": "3.8.5"
  }
 },
 "nbformat": 4,
 "nbformat_minor": 4
}
